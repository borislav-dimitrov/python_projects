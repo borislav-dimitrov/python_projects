{
 "cells": [
  {
   "cell_type": "code",
   "execution_count": 42,
   "id": "2a092313-40c2-4e89-ac0b-418a2f547afd",
   "metadata": {},
   "outputs": [],
   "source": [
    "SALARY = 3150"
   ]
  },
  {
   "cell_type": "code",
   "execution_count": 43,
   "id": "ccfe957e-f54f-485f-ad6a-836cf6a57933",
   "metadata": {},
   "outputs": [],
   "source": [
    "LIZING = 750"
   ]
  },
  {
   "cell_type": "code",
   "execution_count": 44,
   "id": "e637b2fe-df5f-429c-8c2c-da2dd0e7874d",
   "metadata": {},
   "outputs": [],
   "source": [
    "KASKO = 317"
   ]
  },
  {
   "cell_type": "code",
   "execution_count": 45,
   "id": "0b81470d-008b-4e7a-b8e9-259ecfc62124",
   "metadata": {},
   "outputs": [],
   "source": [
    "FUEL = 150"
   ]
  },
  {
   "cell_type": "code",
   "execution_count": 46,
   "id": "945c5919-c462-4299-bb08-696ae466bd79",
   "metadata": {},
   "outputs": [],
   "source": [
    "UNEXPECTED_COSTS = 500"
   ]
  },
  {
   "cell_type": "code",
   "execution_count": 47,
   "id": "edfd4472-cca6-437e-8ddd-aa3440876c90",
   "metadata": {},
   "outputs": [],
   "source": [
    "SALARY -= LIZING + KASKO + UNEXPECTED_COSTS + FUEL"
   ]
  },
  {
   "cell_type": "code",
   "execution_count": 48,
   "id": "757e9b18-aaf4-475f-9d91-5d320f77a67c",
   "metadata": {},
   "outputs": [
    {
     "data": {
      "text/plain": [
       "1433"
      ]
     },
     "execution_count": 48,
     "metadata": {},
     "output_type": "execute_result"
    }
   ],
   "source": [
    "SALARY # After all known/unknown costs"
   ]
  },
  {
   "cell_type": "code",
   "execution_count": 49,
   "id": "74c08617-4231-47ce-a7d6-7a82d6ef3fe5",
   "metadata": {},
   "outputs": [],
   "source": [
    "SPEND_PER_WEEK = 250"
   ]
  },
  {
   "cell_type": "code",
   "execution_count": 50,
   "id": "4802feec-4040-466e-a328-aabf349ab6e9",
   "metadata": {},
   "outputs": [
    {
     "data": {
      "text/plain": [
       "433"
      ]
     },
     "execution_count": 50,
     "metadata": {},
     "output_type": "execute_result"
    }
   ],
   "source": [
    "MONEY_LEFT = SALARY - (SPEND_PER_WEEK * 4)\n",
    "MONEY_LEFT"
   ]
  },
  {
   "cell_type": "code",
   "execution_count": null,
   "id": "32eaf0ac-387b-42df-ac8c-4009295fb636",
   "metadata": {},
   "outputs": [],
   "source": []
  },
  {
   "cell_type": "code",
   "execution_count": null,
   "id": "9fa3176e-c580-4892-8358-fce1c9b69296",
   "metadata": {},
   "outputs": [],
   "source": []
  }
 ],
 "metadata": {
  "kernelspec": {
   "display_name": "Python 3 (ipykernel)",
   "language": "python",
   "name": "python3"
  },
  "language_info": {
   "codemirror_mode": {
    "name": "ipython",
    "version": 3
   },
   "file_extension": ".py",
   "mimetype": "text/x-python",
   "name": "python",
   "nbconvert_exporter": "python",
   "pygments_lexer": "ipython3",
   "version": "3.12.2"
  }
 },
 "nbformat": 4,
 "nbformat_minor": 5
}
