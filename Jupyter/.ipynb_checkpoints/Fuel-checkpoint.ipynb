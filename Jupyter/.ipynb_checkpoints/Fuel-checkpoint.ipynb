{
 "cells": [
  {
   "cell_type": "code",
   "execution_count": 19,
   "id": "42ba9113-a243-4d51-afcc-5d3f74cb571d",
   "metadata": {},
   "outputs": [
    {
     "name": "stdout",
     "output_type": "stream",
     "text": [
      "Per KM - 0.33 lv\n",
      "Total - 2.99 lv\n"
     ]
    }
   ],
   "source": [
    "BENZIN_100 = 3.02\n",
    "FUEL = BENZIN_100\n",
    "\n",
    "RAZHOD = 11\n",
    "DISTANCE = 9\n",
    "TRIP_COST = ((DISTANCE / 100) * RAZHOD) * FUEL\n",
    "PER_KM = TRIP_COST / DISTANCE\n",
    "print(f'Per KM - {PER_KM:.2f} lv')\n",
    "print(f'Total - {TRIP_COST:.2f} lv')"
   ]
  }
 ],
 "metadata": {
  "kernelspec": {
   "display_name": "Python 3 (ipykernel)",
   "language": "python",
   "name": "python3"
  },
  "language_info": {
   "codemirror_mode": {
    "name": "ipython",
    "version": 3
   },
   "file_extension": ".py",
   "mimetype": "text/x-python",
   "name": "python",
   "nbconvert_exporter": "python",
   "pygments_lexer": "ipython3",
   "version": "3.12.2"
  }
 },
 "nbformat": 4,
 "nbformat_minor": 5
}
